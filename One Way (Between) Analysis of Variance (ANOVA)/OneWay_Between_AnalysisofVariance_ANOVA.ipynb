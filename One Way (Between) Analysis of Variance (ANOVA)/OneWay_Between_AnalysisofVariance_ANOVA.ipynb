{
 "cells": [
  {
   "cell_type": "markdown",
   "metadata": {},
   "source": [
    "# One Way (Between) Analysis of Variance (ANOVA)"
   ]
  },
  {
   "cell_type": "code",
   "execution_count": 24,
   "metadata": {},
   "outputs": [],
   "source": [
    "# import libraries \n",
    "import numpy as np \n",
    "import matplotlib.pyplot as plt \n",
    "plt.rcParams.update({'font.size': 16}) \n",
    "import savingfigR as sf \n",
    "import pingouin as pg \n",
    "import pandas as pd \n",
    "from statsmodels.formula.api import ols\n",
    "import scipy.stats as stats\n",
    "import seaborn as sns\n",
    "from statsmodels.sandbox.stats.multicomp import multipletests"
   ]
  },
  {
   "cell_type": "markdown",
   "metadata": {},
   "source": [
    "## Three Group Example in Python"
   ]
  },
  {
   "cell_type": "code",
   "execution_count": 25,
   "metadata": {},
   "outputs": [
    {
     "data": {
      "image/png": "[encoded data removed]",
      "text/plain": [
       "<Figure size 432x288 with 1 Axes>"
      ]
     },
     "metadata": {
      "needs_background": "light"
     },
     "output_type": "display_data"
    }
   ],
   "source": [
    "Y = np.array([4,5,2,1,3,7,4,6,3,5,6,9,8,5,7])\n",
    "X = np.arange(0, len(Y))\n",
    "myFac = np.array([1,1,1,1,1,2,2,2,2,2,3,3,3,3,3])\n",
    "\n",
    "fig= plt.figure()\n",
    "plt.scatter(X[myFac==1], Y[myFac==1], marker='o')\n",
    "plt.scatter(X[myFac==2], Y[myFac==2], marker='^')\n",
    "plt.scatter(X[myFac==3], Y[myFac==3], marker='+')\n",
    "plt.axhline(np.mean(Y), c='k')\n",
    "for i in X:\n",
    "    plt.plot([i, i], [np.mean(Y), Y[i]], c='k', ls='--')\n",
    "plt.xlabel('Index')\n",
    "plt.ylabel('Y')\n",
    "plt.title('restricted model')\n",
    "plt.show()\n",
    "\n",
    "sf.best_save(fig, 'restricted_model')"
   ]
  },
  {
   "cell_type": "code",
   "execution_count": 26,
   "metadata": {},
   "outputs": [
    {
     "data": {
      "image/png": "[encoded data removed]",
      "text/plain": [
       "<Figure size 432x288 with 1 Axes>"
      ]
     },
     "metadata": {
      "needs_background": "light"
     },
     "output_type": "display_data"
    }
   ],
   "source": [
    "fig = plt.figure()\n",
    "plt.scatter(X[myFac==1], Y[myFac==1], marker='o')\n",
    "plt.scatter(X[myFac==2], Y[myFac==2], marker='^')\n",
    "plt.scatter(X[myFac==3], Y[myFac==3], marker='+')\n",
    "plt.plot([np.min(X[myFac==1]),np.max(X[myFac==1])], [np.mean(Y[myFac==1]), np.mean(Y[myFac==1])], c='tab:blue')\n",
    "plt.plot([np.min(X[myFac==2]),np.max(X[myFac==2])], [np.mean(Y[myFac==2]), np.mean(Y[myFac==2])], c='tab:orange')\n",
    "plt.plot([np.min(X[myFac==3]),np.max(X[myFac==3])], [np.mean(Y[myFac==3]), np.mean(Y[myFac==3])], c='tab:green')\n",
    "for i in X:\n",
    "    if myFac[i] == 1: \n",
    "        plt.plot([i, i], [np.mean(Y[myFac==1]), Y[i]], c='k', ls='--')\n",
    "    elif myFac[i] == 2:\n",
    "        plt.plot([i, i], [np.mean(Y[myFac==2]), Y[i]], c='k', ls='--')\n",
    "    elif myFac[i] == 3: \n",
    "        plt.plot([i, i], [np.mean(Y[myFac==3]), Y[i]], c='k', ls='--')\n",
    "plt.xlabel('Index')\n",
    "plt.ylabel('Y')\n",
    "plt.title('full model')\n",
    "plt.show()\n",
    "\n",
    "sf.best_save(fig, 'full_model')"
   ]
  },
  {
   "cell_type": "code",
   "execution_count": 27,
   "metadata": {},
   "outputs": [
    {
     "name": "stdout",
     "output_type": "stream",
     "text": [
      "  Source  ddof1  ddof2    F     p-unc       np2\n",
      "0    IVO      2     12  8.0  0.006196  0.571429\n"
     ]
    }
   ],
   "source": [
    "df = pd.DataFrame(np.vstack((myFac, Y)).T, columns=['IVO', 'Y'])\n",
    "m1 = pg.anova(data=df, dv='Y', between='IVO')\n",
    "print(m1)"
   ]
  },
  {
   "cell_type": "code",
   "execution_count": 5,
   "metadata": {},
   "outputs": [
    {
     "name": "stderr",
     "output_type": "stream",
     "text": [
      "/Users/duncan/opt/anaconda3/lib/python3.8/site-packages/scipy/stats/stats.py:1541: UserWarning: kurtosistest only valid for n>=20 ... continuing anyway, n=15\n",
      "  warnings.warn(\"kurtosistest only valid for n>=20 ... continuing \"\n"
     ]
    },
    {
     "data": {
      "text/html": [
       "<table class=\"simpletable\">\n",
       "<caption>OLS Regression Results</caption>\n",
       "<tr>\n",
       "  <th>Dep. Variable:</th>            <td>Y</td>        <th>  R-squared:         </th> <td>   0.571</td>\n",
       "</tr>\n",
       "<tr>\n",
       "  <th>Model:</th>                   <td>OLS</td>       <th>  Adj. R-squared:    </th> <td>   0.500</td>\n",
       "</tr>\n",
       "<tr>\n",
       "  <th>Method:</th>             <td>Least Squares</td>  <th>  F-statistic:       </th> <td>   8.000</td>\n",
       "</tr>\n",
       "<tr>\n",
       "  <th>Date:</th>             <td>Tue, 21 Dec 2021</td> <th>  Prob (F-statistic):</th>  <td>0.00620</td>\n",
       "</tr>\n",
       "<tr>\n",
       "  <th>Time:</th>                 <td>15:48:54</td>     <th>  Log-Likelihood:    </th> <td> -26.483</td>\n",
       "</tr>\n",
       "<tr>\n",
       "  <th>No. Observations:</th>      <td>    15</td>      <th>  AIC:               </th> <td>   58.97</td>\n",
       "</tr>\n",
       "<tr>\n",
       "  <th>Df Residuals:</th>          <td>    12</td>      <th>  BIC:               </th> <td>   61.09</td>\n",
       "</tr>\n",
       "<tr>\n",
       "  <th>Df Model:</th>              <td>     2</td>      <th>                     </th>     <td> </td>   \n",
       "</tr>\n",
       "<tr>\n",
       "  <th>Covariance Type:</th>      <td>nonrobust</td>    <th>                     </th>     <td> </td>   \n",
       "</tr>\n",
       "</table>\n",
       "<table class=\"simpletable\">\n",
       "<tr>\n",
       "       <td></td>          <th>coef</th>     <th>std err</th>      <th>t</th>      <th>P>|t|</th>  <th>[0.025</th>    <th>0.975]</th>  \n",
       "</tr>\n",
       "<tr>\n",
       "  <th>Intercept</th>   <td>    3.0000</td> <td>    0.707</td> <td>    4.243</td> <td> 0.001</td> <td>    1.459</td> <td>    4.541</td>\n",
       "</tr>\n",
       "<tr>\n",
       "  <th>C(IVO)[T.2]</th> <td>    2.0000</td> <td>    1.000</td> <td>    2.000</td> <td> 0.069</td> <td>   -0.179</td> <td>    4.179</td>\n",
       "</tr>\n",
       "<tr>\n",
       "  <th>C(IVO)[T.3]</th> <td>    4.0000</td> <td>    1.000</td> <td>    4.000</td> <td> 0.002</td> <td>    1.821</td> <td>    6.179</td>\n",
       "</tr>\n",
       "</table>\n",
       "<table class=\"simpletable\">\n",
       "<tr>\n",
       "  <th>Omnibus:</th>       <td> 2.603</td> <th>  Durbin-Watson:     </th> <td>   2.300</td>\n",
       "</tr>\n",
       "<tr>\n",
       "  <th>Prob(Omnibus):</th> <td> 0.272</td> <th>  Jarque-Bera (JB):  </th> <td>   1.056</td>\n",
       "</tr>\n",
       "<tr>\n",
       "  <th>Skew:</th>          <td> 0.000</td> <th>  Prob(JB):          </th> <td>   0.590</td>\n",
       "</tr>\n",
       "<tr>\n",
       "  <th>Kurtosis:</th>      <td> 1.700</td> <th>  Cond. No.          </th> <td>    3.73</td>\n",
       "</tr>\n",
       "</table><br/><br/>Notes:<br/>[1] Standard Errors assume that the covariance matrix of the errors is correctly specified."
      ],
      "text/plain": [
       "<class 'statsmodels.iolib.summary.Summary'>\n",
       "\"\"\"\n",
       "                            OLS Regression Results                            \n",
       "==============================================================================\n",
       "Dep. Variable:                      Y   R-squared:                       0.571\n",
       "Model:                            OLS   Adj. R-squared:                  0.500\n",
       "Method:                 Least Squares   F-statistic:                     8.000\n",
       "Date:                Tue, 21 Dec 2021   Prob (F-statistic):            0.00620\n",
       "Time:                        15:48:54   Log-Likelihood:                -26.483\n",
       "No. Observations:                  15   AIC:                             58.97\n",
       "Df Residuals:                      12   BIC:                             61.09\n",
       "Df Model:                           2                                         \n",
       "Covariance Type:            nonrobust                                         \n",
       "===============================================================================\n",
       "                  coef    std err          t      P>|t|      [0.025      0.975]\n",
       "-------------------------------------------------------------------------------\n",
       "Intercept       3.0000      0.707      4.243      0.001       1.459       4.541\n",
       "C(IVO)[T.2]     2.0000      1.000      2.000      0.069      -0.179       4.179\n",
       "C(IVO)[T.3]     4.0000      1.000      4.000      0.002       1.821       6.179\n",
       "==============================================================================\n",
       "Omnibus:                        2.603   Durbin-Watson:                   2.300\n",
       "Prob(Omnibus):                  0.272   Jarque-Bera (JB):                1.056\n",
       "Skew:                           0.000   Prob(JB):                        0.590\n",
       "Kurtosis:                       1.700   Cond. No.                         3.73\n",
       "==============================================================================\n",
       "\n",
       "Notes:\n",
       "[1] Standard Errors assume that the covariance matrix of the errors is correctly specified.\n",
       "\"\"\""
      ]
     },
     "execution_count": 5,
     "metadata": {},
     "output_type": "execute_result"
    }
   ],
   "source": [
    "m2 = ols('Y ~ C(IVO)', data=df).fit() \n",
    "m2.summary()"
   ]
  },
  {
   "cell_type": "code",
   "execution_count": 6,
   "metadata": {},
   "outputs": [],
   "source": [
    "# can't run F-test on linear model "
   ]
  },
  {
   "cell_type": "markdown",
   "metadata": {},
   "source": [
    "## Testing Normality"
   ]
  },
  {
   "cell_type": "code",
   "execution_count": 7,
   "metadata": {},
   "outputs": [
    {
     "data": {
      "text/plain": [
       "ShapiroResult(statistic=0.9867621660232544, pvalue=0.9671739339828491)"
      ]
     },
     "execution_count": 7,
     "metadata": {},
     "output_type": "execute_result"
    }
   ],
   "source": [
    "stats.shapiro(Y[0:5])"
   ]
  },
  {
   "cell_type": "code",
   "execution_count": 8,
   "metadata": {},
   "outputs": [
    {
     "data": {
      "text/plain": [
       "ShapiroResult(statistic=0.9867621660232544, pvalue=0.9671739339828491)"
      ]
     },
     "execution_count": 8,
     "metadata": {},
     "output_type": "execute_result"
    }
   ],
   "source": [
    "stats.shapiro(Y[5:10])"
   ]
  },
  {
   "cell_type": "code",
   "execution_count": 9,
   "metadata": {},
   "outputs": [
    {
     "data": {
      "text/plain": [
       "ShapiroResult(statistic=0.9867621660232544, pvalue=0.9671739339828491)"
      ]
     },
     "execution_count": 9,
     "metadata": {},
     "output_type": "execute_result"
    }
   ],
   "source": [
    "stats.shapiro(Y[10:16])"
   ]
  },
  {
   "cell_type": "markdown",
   "metadata": {},
   "source": [
    "## Testing Homogeneity of Variances"
   ]
  },
  {
   "cell_type": "code",
   "execution_count": 10,
   "metadata": {},
   "outputs": [
    {
     "data": {
      "text/plain": [
       "BartlettResult(statistic=0.0, pvalue=1.0)"
      ]
     },
     "execution_count": 10,
     "metadata": {},
     "output_type": "execute_result"
    }
   ],
   "source": [
    "stats.bartlett(Y[0:5], Y[5:10], Y[10:16])"
   ]
  },
  {
   "cell_type": "markdown",
   "metadata": {},
   "source": [
    "## Follow up Mean Comparison's"
   ]
  },
  {
   "cell_type": "code",
   "execution_count": 23,
   "metadata": {},
   "outputs": [
    {
     "name": "stdout",
     "output_type": "stream",
     "text": [
      "[0.16103248 0.01184932 0.16103248]\n"
     ]
    }
   ],
   "source": [
    "pval_1v2 = stats.ttest_ind(Y[0:5], Y[5:10], alternative = \"two-sided\")[1] # G1 vs G2\n",
    "pval_1v3 = stats.ttest_ind(Y[0:5], Y[10:16], alternative = \"two-sided\")[1] # G1 vs G3\n",
    "pval_2v3 = stats.ttest_ind(Y[5:10], Y[10:16], alternative = \"two-sided\")[1] # G2 vs G3\n",
    "pvals = np.array([pval_1v2, pval_1v3, pval_2v3])\n",
    "p_adjusted = multipletests(pvals, method='holm')[1][:]\n",
    "print(p_adjusted)"
   ]
  },
  {
   "cell_type": "markdown",
   "metadata": {},
   "source": [
    "## ANOVA Effect Size in Python"
   ]
  },
  {
   "cell_type": "code",
   "execution_count": 12,
   "metadata": {},
   "outputs": [
    {
     "data": {
      "text/plain": [
       "0    8.0\n",
       "Name: F, dtype: float64"
      ]
     },
     "execution_count": 12,
     "metadata": {},
     "output_type": "execute_result"
    }
   ],
   "source": [
    "m1.F # F-statistic "
   ]
  },
  {
   "cell_type": "code",
   "execution_count": 13,
   "metadata": {},
   "outputs": [
    {
     "data": {
      "text/plain": [
       "0    0.571429\n",
       "Name: np2, dtype: float64"
      ]
     },
     "execution_count": 13,
     "metadata": {},
     "output_type": "execute_result"
    }
   ],
   "source": [
    "m1.np2 # partial eta squared "
   ]
  },
  {
   "cell_type": "code",
   "execution_count": 14,
   "metadata": {},
   "outputs": [],
   "source": [
    "# omega squared "
   ]
  },
  {
   "cell_type": "markdown",
   "metadata": {},
   "source": [
    "## Power Analysis on ANOVA"
   ]
  },
  {
   "cell_type": "code",
   "execution_count": 15,
   "metadata": {},
   "outputs": [
    {
     "data": {
      "text/plain": [
       "3.6182007042063735"
      ]
     },
     "execution_count": 15,
     "metadata": {},
     "output_type": "execute_result"
    }
   ],
   "source": [
    "pg.power_anova(m1.np2, 3, n=None, power=0.8, alpha=0.05) # this isn't correct"
   ]
  },
  {
   "cell_type": "markdown",
   "metadata": {},
   "source": [
    "## Quick Plot of the Data"
   ]
  },
  {
   "cell_type": "code",
   "execution_count": 16,
   "metadata": {},
   "outputs": [
    {
     "data": {
      "image/png": "[encoded data removed]",
      "text/plain": [
       "<Figure size 432x288 with 1 Axes>"
      ]
     },
     "metadata": {
      "needs_background": "light"
     },
     "output_type": "display_data"
    }
   ],
   "source": [
    "group_x = np.array([np.mean(Y[0:5]), np.mean(Y[5:10]), np.mean(Y[10:16])])\n",
    "group_ste = np.array([np.std(Y[0:5], ddof=1) / np.sqrt(len(Y[0:5])), np.std(Y[5:10], ddof=1) / np.sqrt(len(Y[5:10])), np.std(Y[10:16], ddof=1)/ np.sqrt(len(Y[10:16]))])\n",
    "\n",
    "fig = plt.figure()\n",
    "plt.bar(np.arange(0,3), group_x)\n",
    "plt.errorbar(np.arange(0,3), group_x, group_ste, ls='None',c='k')\n",
    "plt.show()\n",
    "\n",
    "sf.best_save(fig, 'quickBox')"
   ]
  },
  {
   "cell_type": "markdown",
   "metadata": {},
   "source": [
    "## Graphing with GG Plot - Bar Plots"
   ]
  },
  {
   "cell_type": "code",
   "execution_count": 17,
   "metadata": {},
   "outputs": [
    {
     "data": {
      "image/png": "[encoded data removed]",
      "text/plain": [
       "<Figure size 432x288 with 1 Axes>"
      ]
     },
     "metadata": {
      "needs_background": "light"
     },
     "output_type": "display_data"
    }
   ],
   "source": [
    "# I think the closest thing here is to use seaborn \n",
    "\n",
    "fig = plt.figure()\n",
    "sns.barplot(x='IVO', y='Y', data=df)\n",
    "plt.show()\n",
    "sf.best_save(fig, 'sns_bar')"
   ]
  },
  {
   "cell_type": "markdown",
   "metadata": {},
   "source": [
    "## Graphing with GG Plot - Box and Whisker"
   ]
  },
  {
   "cell_type": "code",
   "execution_count": 18,
   "metadata": {},
   "outputs": [
    {
     "data": {
      "image/png": "[encoded data removed]",
      "text/plain": [
       "<Figure size 432x288 with 1 Axes>"
      ]
     },
     "metadata": {
      "needs_background": "light"
     },
     "output_type": "display_data"
    }
   ],
   "source": [
    "fig = plt.figure()\n",
    "sns.boxplot(x='IVO', y='Y', data=df)\n",
    "sns.stripplot(x='IVO', y='Y', data=df, color='k')\n",
    "plt.show()\n",
    "sf.best_save(fig, 'sns_boxwhiskers')"
   ]
  },
  {
   "cell_type": "markdown",
   "metadata": {},
   "source": [
    "## Kruskal Wallis "
   ]
  },
  {
   "cell_type": "code",
   "execution_count": 19,
   "metadata": {},
   "outputs": [
    {
     "data": {
      "text/plain": [
       "KruskalResult(statistic=8.115942028985506, pvalue=0.017284052654398252)"
      ]
     },
     "execution_count": 19,
     "metadata": {},
     "output_type": "execute_result"
    }
   ],
   "source": [
    "stats.kruskal(Y[0:5], Y[5:10], Y[10:16])"
   ]
  }
 ],
 "metadata": {
  "interpreter": {
   "hash": "7acdbb3aff7158c09429e6c9b96f485cecd437364040e3b3eee49ff737423024"
  },
  "kernelspec": {
   "display_name": "Python 3.8.10 64-bit ('base': conda)",
   "language": "python",
   "name": "python3"
  },
  "language_info": {
   "codemirror_mode": {
    "name": "ipython",
    "version": 3
   },
   "file_extension": ".py",
   "mimetype": "text/x-python",
   "name": "python",
   "nbconvert_exporter": "python",
   "pygments_lexer": "ipython3",
   "version": "3.8.10"
  },
  "orig_nbformat": 4
 },
 "nbformat": 4,
 "nbformat_minor": 2
}
