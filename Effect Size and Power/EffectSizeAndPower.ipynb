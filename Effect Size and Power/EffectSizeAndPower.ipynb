{
 "cells": [
  {
   "cell_type": "markdown",
   "metadata": {},
   "source": [
    "# Effect Size and Power"
   ]
  },
  {
   "cell_type": "code",
   "execution_count": 1,
   "metadata": {},
   "outputs": [],
   "source": [
    "# pip install cohens_d "
   ]
  },
  {
   "cell_type": "code",
   "execution_count": 2,
   "metadata": {},
   "outputs": [],
   "source": [
    "# pip install CLES "
   ]
  },
  {
   "cell_type": "code",
   "execution_count": 3,
   "metadata": {},
   "outputs": [],
   "source": [
    "# import libraries \n",
    "import numpy as np \n",
    "import matplotlib.pyplot as plt \n",
    "plt.rcParams.update({'font.size': 16}) \n",
    "import scipy.stats as stats\n",
    "import savingfigR as sf\n",
    "import cohens_d as cD\n",
    "import CLES as CL\n",
    "from statsmodels.stats.power import TTestIndPower\n",
    "from statsmodels.stats.power import TTestPower"
   ]
  },
  {
   "cell_type": "markdown",
   "metadata": {},
   "source": [
    "## Cohen's D: 1 sample"
   ]
  },
  {
   "cell_type": "code",
   "execution_count": 4,
   "metadata": {},
   "outputs": [
    {
     "name": "stdout",
     "output_type": "stream",
     "text": [
      "0.9431191251430155\n"
     ]
    }
   ],
   "source": [
    "data1 = np.array([13,14,15,17,18,19,21,20,19,20])\n",
    "X = np.mean(data1)\n",
    "s = np.std(data1, ddof=1)\n",
    "mu = 15\n",
    "d = (X - mu) / s\n",
    "print(abs(d)) # report positive value"
   ]
  },
  {
   "cell_type": "code",
   "execution_count": 5,
   "metadata": {},
   "outputs": [
    {
     "data": {
      "text/plain": [
       "0.9431191251430155"
      ]
     },
     "execution_count": 5,
     "metadata": {},
     "output_type": "execute_result"
    }
   ],
   "source": [
    "cD.cohensd_1samp(data1, mu=mu)"
   ]
  },
  {
   "cell_type": "markdown",
   "metadata": {},
   "source": [
    "## Cohen's D: 2 sample"
   ]
  },
  {
   "cell_type": "code",
   "execution_count": 6,
   "metadata": {},
   "outputs": [
    {
     "name": "stdout",
     "output_type": "stream",
     "text": [
      "0.11109232047880643\n"
     ]
    }
   ],
   "source": [
    "group1 = np.random.normal(loc=300.4, scale=34.9, size=(300,))\n",
    "group2 = np.random.normal(loc=306.7, scale=30.1, size=(350,))\n",
    "d2 = (np.mean(group1) - np.mean(group2)) / (np.sqrt((((len(group1) - 1) * np.var(group1, ddof=1)) + ((len(group2) - 1) * np.var(group2, ddof=2))) / (len(group1) + len(group2) - 2)))\n",
    "print(abs(d2))"
   ]
  },
  {
   "cell_type": "code",
   "execution_count": 7,
   "metadata": {},
   "outputs": [
    {
     "data": {
      "text/plain": [
       "0.11109232047880643"
      ]
     },
     "execution_count": 7,
     "metadata": {},
     "output_type": "execute_result"
    }
   ],
   "source": [
    "cD.cohensd_2ind(group1=group1, group2=group2)"
   ]
  },
  {
   "cell_type": "markdown",
   "metadata": {},
   "source": [
    "## Cohen's D: Paired Samples "
   ]
  },
  {
   "cell_type": "code",
   "execution_count": 8,
   "metadata": {},
   "outputs": [
    {
     "name": "stdout",
     "output_type": "stream",
     "text": [
      "0.4475410997133768\n"
     ]
    }
   ],
   "source": [
    "data2a = np.array([22,25,17,24,16,29,20,23,19,20])\n",
    "data2b = np.array([18,21,16,22,19,24,17,21,23,18])\n",
    "data2diff = data2a - data2b\n",
    "d2 = (np.mean(data2diff) - 0) / (np.sqrt(np.std(data2a, ddof=1)**2 + np.std(data2b,ddof=1)**2- 2 * stats.pearsonr(data2a,data2b)[0] * np.std(data2a, ddof=1) * np.std(data2b, ddof=1))/ np.sqrt(2*(1-stats.pearsonr(data2a,data2b)[0])))\n",
    "print(d2)"
   ]
  },
  {
   "cell_type": "code",
   "execution_count": 9,
   "metadata": {},
   "outputs": [
    {
     "data": {
      "text/plain": [
       "0.4475410997133768"
      ]
     },
     "execution_count": 9,
     "metadata": {},
     "output_type": "execute_result"
    }
   ],
   "source": [
    "cD.cohensd_2paired(data2a, data2b)"
   ]
  },
  {
   "cell_type": "markdown",
   "metadata": {},
   "source": [
    "## Common Language Effect Size - 2 sample"
   ]
  },
  {
   "cell_type": "code",
   "execution_count": 10,
   "metadata": {},
   "outputs": [
    {
     "name": "stdout",
     "output_type": "stream",
     "text": [
      "66.66666666666667\n"
     ]
    }
   ],
   "source": [
    "a = np.array([1,3,5])\n",
    "b = np.array([2,4,6])\n",
    "total = 0\n",
    "for A in a: \n",
    "    for B in b:\n",
    "        if A > B:\n",
    "            total += 1\n",
    "        elif A == B: \n",
    "            total += 0.5\n",
    "CLES = (abs(total / (len(a) * len(b)) - 0.5) + 0.5) * 100\n",
    "print(CLES)"
   ]
  },
  {
   "cell_type": "code",
   "execution_count": 11,
   "metadata": {},
   "outputs": [
    {
     "data": {
      "text/plain": [
       "66.66666666666667"
      ]
     },
     "execution_count": 11,
     "metadata": {},
     "output_type": "execute_result"
    }
   ],
   "source": [
    "CL.CLES_2independent(a, b)"
   ]
  },
  {
   "cell_type": "code",
   "execution_count": 12,
   "metadata": {},
   "outputs": [
    {
     "name": "stdout",
     "output_type": "stream",
     "text": [
      "53.85142857142857\n"
     ]
    }
   ],
   "source": [
    "a = group1\n",
    "b = group2\n",
    "total = 0\n",
    "for A in a:\n",
    "    for B in b: \n",
    "        if A > B:\n",
    "            total += 1 \n",
    "        elif A == B:\n",
    "            total += 0.5\n",
    "CLES = (abs(total / (len(a) * len(b)) - 0.5) + 0.5) * 100\n",
    "print(CLES)"
   ]
  },
  {
   "cell_type": "code",
   "execution_count": 13,
   "metadata": {},
   "outputs": [
    {
     "data": {
      "text/plain": [
       "53.85142857142857"
      ]
     },
     "execution_count": 13,
     "metadata": {},
     "output_type": "execute_result"
    }
   ],
   "source": [
    "CL.CLES_2independent(a, b)"
   ]
  },
  {
   "cell_type": "markdown",
   "metadata": {},
   "source": [
    "## Common Language Effect Size - 1 sample "
   ]
  },
  {
   "cell_type": "code",
   "execution_count": 14,
   "metadata": {},
   "outputs": [
    {
     "name": "stdout",
     "output_type": "stream",
     "text": [
      "75.0\n"
     ]
    }
   ],
   "source": [
    "a = data1 # data\n",
    "b = np.ones_like(a)*15 # mean value you are comparing to (i.e., mu_0 = 15)\n",
    "total = 0 \n",
    "for A in a:\n",
    "    for B in b:\n",
    "        if A > B: \n",
    "            total += 1\n",
    "        elif A == B: \n",
    "            total += 0.5\n",
    "CLES = (abs(total / (len(a) * len(b)) - 0.5) + 0.5) * 100\n",
    "print(CLES)"
   ]
  },
  {
   "cell_type": "code",
   "execution_count": 15,
   "metadata": {},
   "outputs": [
    {
     "data": {
      "text/plain": [
       "75.0"
      ]
     },
     "execution_count": 15,
     "metadata": {},
     "output_type": "execute_result"
    }
   ],
   "source": [
    "CL.CLES_1samp(a, 15)"
   ]
  },
  {
   "cell_type": "markdown",
   "metadata": {},
   "source": [
    "## Common Language Effect Size - Paired "
   ]
  },
  {
   "cell_type": "code",
   "execution_count": 16,
   "metadata": {},
   "outputs": [
    {
     "name": "stdout",
     "output_type": "stream",
     "text": [
      "80.0\n"
     ]
    }
   ],
   "source": [
    "a1 = data2a # e.g., pre intervention\n",
    "a2 = data2b # e.g., post intervention\n",
    "a = a2 - a1\n",
    "b = np.zeros_like(a) # mean value you are comparing to (same as mu_0 = 0)\n",
    "total=0\n",
    "for A in a:\n",
    "    for B in b:\n",
    "        if A > B:\n",
    "            total += 1\n",
    "        elif A == B:\n",
    "            total += 0.5\n",
    "CLES = (abs(total / (len(a) * len(b)) - 0.5) + 0.5) * 100\n",
    "print(CLES)"
   ]
  },
  {
   "cell_type": "code",
   "execution_count": 17,
   "metadata": {},
   "outputs": [
    {
     "data": {
      "text/plain": [
       "82.0"
      ]
     },
     "execution_count": 17,
     "metadata": {},
     "output_type": "execute_result"
    }
   ],
   "source": [
    "CL.CLES_2paired(a1, a2)"
   ]
  },
  {
   "cell_type": "markdown",
   "metadata": {},
   "source": [
    "## Power Analysis (a priori) Cont'd"
   ]
  },
  {
   "cell_type": "code",
   "execution_count": 18,
   "metadata": {},
   "outputs": [
    {
     "data": {
      "text/plain": [
       "416.23548062417126"
      ]
     },
     "execution_count": 18,
     "metadata": {},
     "output_type": "execute_result"
    }
   ],
   "source": [
    "d2 = (300.4 - 306.7) / (np.sqrt((((300 - 1) * 34.9**2) + ((350 - 1) * 30.1**2)) / (300 + 350 - 2)))\n",
    "d2abs = np.abs(d2)\n",
    "pwrttest = TTestIndPower() # syntax is a bit weird here, it's an object that takes self as first argument, so create a new object\n",
    "pwrttest.solve_power(effect_size=d2abs, alpha=0.05, power=0.8)"
   ]
  },
  {
   "cell_type": "code",
   "execution_count": 19,
   "metadata": {},
   "outputs": [
    {
     "data": {
      "image/png": "[encoded data removed]",
      "text/plain": [
       "<Figure size 432x288 with 1 Axes>"
      ]
     },
     "metadata": {
      "needs_background": "light"
     },
     "output_type": "display_data"
    }
   ],
   "source": [
    "fig = plt.figure()\n",
    "ax = plt.subplot(1,1,1) # this syntax is also a bit odd, but it needs the axes or it wont work\n",
    "fig = pwrttest.plot_power(dep_var='nobs', nobs=np.arange(2, 420), effect_size=np.array([d2abs]), ax=ax)\n",
    "plt.show()\n",
    "\n",
    "sf.best_save(fig, 'power1')"
   ]
  },
  {
   "cell_type": "markdown",
   "metadata": {},
   "source": [
    "## Power Analysis (Pilot Data) Cont'd"
   ]
  },
  {
   "cell_type": "code",
   "execution_count": 20,
   "metadata": {},
   "outputs": [
    {
     "data": {
      "text/plain": [
       "10.89890000254771"
      ]
     },
     "execution_count": 20,
     "metadata": {},
     "output_type": "execute_result"
    }
   ],
   "source": [
    "data1 = np.array([13,14,15,17,18,19,21,20,19,20])\n",
    "d1 = cD.cohensd_1samp(data1, mu=15)\n",
    "pwrttest1 = TTestPower()\n",
    "pwrttest1.solve_power(effect_size=d1,alpha=0.05, power=0.8)"
   ]
  },
  {
   "cell_type": "code",
   "execution_count": 21,
   "metadata": {},
   "outputs": [
    {
     "data": {
      "text/plain": [
       "0.756329564722745"
      ]
     },
     "execution_count": 21,
     "metadata": {},
     "output_type": "execute_result"
    }
   ],
   "source": [
    "pwrttest1_1 = TTestPower()\n",
    "pwrttest1_1.solve_power(effect_size=d1, nobs=10, alpha=0.05)"
   ]
  },
  {
   "cell_type": "markdown",
   "metadata": {},
   "source": [
    "## Numerical Power Analysis (a priori) Cont'd"
   ]
  },
  {
   "cell_type": "code",
   "execution_count": 22,
   "metadata": {},
   "outputs": [],
   "source": [
    "PVALUES1 = np.zeros((100000,)) # initialize NaN array\n",
    "n = 100\n",
    "for i in range(len(PVALUES1)): \n",
    "    group1 = np.random.normal(loc=300.4, scale=34.9, size=(n,))\n",
    "    group2 = np.random.normal(loc=306.7, scale=30.1, size=(n,))\n",
    "    pval = stats.ttest_ind(group1, group2)[1]\n",
    "    PVALUES1[i] = pval"
   ]
  },
  {
   "cell_type": "code",
   "execution_count": 23,
   "metadata": {},
   "outputs": [
    {
     "data": {
      "image/png": "[encoded data removed]",
      "text/plain": [
       "<Figure size 432x288 with 1 Axes>"
      ]
     },
     "metadata": {
      "needs_background": "light"
     },
     "output_type": "display_data"
    }
   ],
   "source": [
    "fig = plt.figure()\n",
    "plt.hist(PVALUES1)\n",
    "plt.axvline(0.05, c='b', lw=2)\n",
    "plt.show()\n",
    "\n",
    "sf.best_save(fig, 'NPA_curve')"
   ]
  },
  {
   "cell_type": "code",
   "execution_count": 24,
   "metadata": {},
   "outputs": [
    {
     "data": {
      "text/plain": [
       "27.555000000000003"
      ]
     },
     "execution_count": 24,
     "metadata": {},
     "output_type": "execute_result"
    }
   ],
   "source": [
    "np.sum(PVALUES1 < 0.05) / len(PVALUES1) * 100"
   ]
  }
 ],
 "metadata": {
  "interpreter": {
   "hash": "7acdbb3aff7158c09429e6c9b96f485cecd437364040e3b3eee49ff737423024"
  },
  "kernelspec": {
   "display_name": "Python 3.8.10 64-bit ('base': conda)",
   "language": "python",
   "name": "python3"
  },
  "language_info": {
   "codemirror_mode": {
    "name": "ipython",
    "version": 3
   },
   "file_extension": ".py",
   "mimetype": "text/x-python",
   "name": "python",
   "nbconvert_exporter": "python",
   "pygments_lexer": "ipython3",
   "version": "3.8.10"
  },
  "orig_nbformat": 4
 },
 "nbformat": 4,
 "nbformat_minor": 2
}
