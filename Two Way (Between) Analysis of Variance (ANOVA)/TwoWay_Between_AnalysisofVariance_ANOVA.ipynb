{
 "cells": [
  {
   "cell_type": "markdown",
   "metadata": {},
   "source": [
    "# Two Way (Between) Analysis of Variance (ANOVA)"
   ]
  },
  {
   "cell_type": "code",
   "execution_count": 15,
   "metadata": {},
   "outputs": [],
   "source": [
    "# import libraries \n",
    "import numpy as np \n",
    "import matplotlib.pyplot as plt \n",
    "plt.rcParams.update({'font.size': 16}) \n",
    "import savingfigR as sf \n",
    "import pingouin as pg \n",
    "import pandas as pd \n",
    "from statsmodels.formula.api import ols\n",
    "from statsmodels.stats.anova import anova_lm\n",
    "from statsmodels.graphics.factorplots import interaction_plot\n",
    "import scipy.stats as stats\n",
    "import cohens_d as cD\n",
    "from statsmodels.sandbox.stats.multicomp import multipletests"
   ]
  },
  {
   "cell_type": "markdown",
   "metadata": {},
   "source": [
    "## 2-Way ANOVA Example "
   ]
  },
  {
   "cell_type": "code",
   "execution_count": 2,
   "metadata": {},
   "outputs": [],
   "source": [
    "bloodpressure = np.array([158,163,173,178,168,188,183,198,178,193,186,191,196,181,176,185,190,195,200,180]).astype(int)\n",
    "biofeedback = np.concatenate((np.repeat('present', 10), np.repeat('absent', 10))) # need to be dummy coded\n",
    "drug = np.concatenate((np.repeat('present', 5), np.repeat('absent', 5), np.repeat('present', 5), np.repeat('absent', 5))) # need to be dummy coded\n",
    "biofeedbackDC = np.concatenate(([0]*10, [1]*10))\n",
    "drugDC = np.concatenate(([0]*5, [1]*5, [0]*5, [1]*5))\n",
    "df_int = pd.DataFrame(data=np.array([bloodpressure, biofeedback, drug]).T, columns=['BP', 'BF', 'D'])\n",
    "df_DC = pd.DataFrame(data=np.array([bloodpressure, biofeedbackDC, drugDC]).T, columns=['BP', 'BF', 'D'])"
   ]
  },
  {
   "cell_type": "code",
   "execution_count": 3,
   "metadata": {},
   "outputs": [
    {
     "data": {
      "image/png": "[encoded data removed]",
      "text/plain": [
       "<Figure size 432x288 with 1 Axes>"
      ]
     },
     "metadata": {
      "needs_background": "light"
     },
     "output_type": "display_data"
    }
   ],
   "source": [
    "fig = interaction_plot(drug, biofeedback, bloodpressure)\n",
    "plt.show()\n",
    "\n",
    "sf.best_save(fig, 'interaction')"
   ]
  },
  {
   "cell_type": "code",
   "execution_count": 4,
   "metadata": {},
   "outputs": [
    {
     "name": "stdout",
     "output_type": "stream",
     "text": [
      "          sum_sq    df      F    PR(>F)\n",
      "D          720.0   1.0  11.52  0.003706\n",
      "BF         500.0   1.0   8.00  0.012109\n",
      "D:BF       320.0   1.0   5.12  0.037917\n",
      "Residual  1000.0  16.0    NaN       NaN\n"
     ]
    }
   ],
   "source": [
    "model = ols(formula='BP ~ D + BF + D:BF', data=df_DC).fit()\n",
    "aov_table = anova_lm(model, typ=2)\n",
    "print(aov_table)"
   ]
  },
  {
   "cell_type": "markdown",
   "metadata": {},
   "source": [
    "## Testing Normality "
   ]
  },
  {
   "cell_type": "code",
   "execution_count": 5,
   "metadata": {},
   "outputs": [
    {
     "data": {
      "text/plain": [
       "ShapiroResult(statistic=0.9867621660232544, pvalue=0.9671738743782043)"
      ]
     },
     "execution_count": 5,
     "metadata": {},
     "output_type": "execute_result"
    }
   ],
   "source": [
    "stats.shapiro(bloodpressure[0:5]) # group 1"
   ]
  },
  {
   "cell_type": "code",
   "execution_count": 6,
   "metadata": {},
   "outputs": [
    {
     "data": {
      "text/plain": [
       "ShapiroResult(statistic=0.9867621660232544, pvalue=0.9671739339828491)"
      ]
     },
     "execution_count": 6,
     "metadata": {},
     "output_type": "execute_result"
    }
   ],
   "source": [
    "stats.shapiro(bloodpressure[5:10]) # group 2"
   ]
  },
  {
   "cell_type": "code",
   "execution_count": 7,
   "metadata": {},
   "outputs": [
    {
     "data": {
      "text/plain": [
       "ShapiroResult(statistic=0.9867621660232544, pvalue=0.9671739339828491)"
      ]
     },
     "execution_count": 7,
     "metadata": {},
     "output_type": "execute_result"
    }
   ],
   "source": [
    "stats.shapiro(bloodpressure[10:15]) # group 3"
   ]
  },
  {
   "cell_type": "code",
   "execution_count": 8,
   "metadata": {},
   "outputs": [
    {
     "data": {
      "text/plain": [
       "ShapiroResult(statistic=0.9867621660232544, pvalue=0.9671739339828491)"
      ]
     },
     "execution_count": 8,
     "metadata": {},
     "output_type": "execute_result"
    }
   ],
   "source": [
    "stats.shapiro(bloodpressure[15:21]) # group 4"
   ]
  },
  {
   "cell_type": "markdown",
   "metadata": {},
   "source": [
    "## Homogenous of Variance "
   ]
  },
  {
   "cell_type": "code",
   "execution_count": 9,
   "metadata": {},
   "outputs": [],
   "source": [
    "# unsure how to do "
   ]
  },
  {
   "cell_type": "markdown",
   "metadata": {},
   "source": [
    "## Interaction Effect, Mean Comparison "
   ]
  },
  {
   "cell_type": "code",
   "execution_count": 17,
   "metadata": {},
   "outputs": [
    {
     "name": "stdout",
     "output_type": "stream",
     "text": [
      "[0.00789955 0.44681333]\n"
     ]
    }
   ],
   "source": [
    "# nobiofeed, nodrug vs nobiofeed, drug\n",
    "pval_nbnd_v_nbd = stats.ttest_ind(bloodpressure[0:5], bloodpressure[5:10], alternative = \"two-sided\")[1]\n",
    "# biofeed, nodrug vs biofeed, drug\n",
    "pval_bnd_v_bd = stats.ttest_ind(bloodpressure[10:15], bloodpressure[15:21], alternative = \"two-sided\")[1]\n",
    "pvals = np.array([pval_nbnd_v_nbd, pval_bnd_v_bd])\n",
    "p_adjusted = multipletests(pvals, method='holm')[1][:]\n",
    "print(p_adjusted)"
   ]
  },
  {
   "cell_type": "markdown",
   "metadata": {},
   "source": [
    "## Main Effect, Mean Comparisons"
   ]
  },
  {
   "cell_type": "code",
   "execution_count": 11,
   "metadata": {},
   "outputs": [
    {
     "name": "stdout",
     "output_type": "stream",
     "text": [
      "0.015663843118946773\n"
     ]
    }
   ],
   "source": [
    "# drug vs no drug --- group all data as with or without drug\n",
    "drug_main = np.concatenate([bloodpressure[0:5],bloodpressure[10:15]])\n",
    "nodrug_main = np.concatenate([bloodpressure[5:10],bloodpressure[15:21]])\n",
    "pval_d_v_nd = stats.ttest_ind(drug_main, nodrug_main, alternative = \"two-sided\")[1]\n",
    "# biofeedback vs no biofeedback\n",
    "biof_main = bloodpressure[0:10]\n",
    "nobiof_main = bloodpressure[10:21]\n",
    "pval_bf_v_nbf = stats.ttest_ind(biof_main, nobiof_main, alternative = \"two-sided\")[1]\n",
    "print(pval_d_v_nd) # not sure why this isn't correct"
   ]
  },
  {
   "cell_type": "code",
   "execution_count": 12,
   "metadata": {},
   "outputs": [
    {
     "name": "stdout",
     "output_type": "stream",
     "text": [
      "0.05004919409559345\n"
     ]
    }
   ],
   "source": [
    "print(pval_bf_v_nbf) # but this is "
   ]
  },
  {
   "cell_type": "markdown",
   "metadata": {},
   "source": [
    "## Effect Sizes"
   ]
  },
  {
   "cell_type": "code",
   "execution_count": 13,
   "metadata": {},
   "outputs": [
    {
     "data": {
      "text/plain": [
       "1.1730212128345283"
      ]
     },
     "execution_count": 13,
     "metadata": {},
     "output_type": "execute_result"
    }
   ],
   "source": [
    "cD.cohensd_2ind(drug_main, nodrug_main)"
   ]
  },
  {
   "cell_type": "markdown",
   "metadata": {},
   "source": [
    "## Power"
   ]
  },
  {
   "cell_type": "code",
   "execution_count": 14,
   "metadata": {},
   "outputs": [],
   "source": [
    "# none in pinguoin "
   ]
  }
 ],
 "metadata": {
  "interpreter": {
   "hash": "7acdbb3aff7158c09429e6c9b96f485cecd437364040e3b3eee49ff737423024"
  },
  "kernelspec": {
   "display_name": "Python 3.8.10 64-bit ('base': conda)",
   "language": "python",
   "name": "python3"
  },
  "language_info": {
   "codemirror_mode": {
    "name": "ipython",
    "version": 3
   },
   "file_extension": ".py",
   "mimetype": "text/x-python",
   "name": "python",
   "nbconvert_exporter": "python",
   "pygments_lexer": "ipython3",
   "version": "3.8.10"
  },
  "orig_nbformat": 4
 },
 "nbformat": 4,
 "nbformat_minor": 2
}
