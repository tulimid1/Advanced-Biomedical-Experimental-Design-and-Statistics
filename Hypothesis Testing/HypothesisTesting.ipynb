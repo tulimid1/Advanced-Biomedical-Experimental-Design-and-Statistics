{
 "cells": [
  {
   "cell_type": "markdown",
   "metadata": {},
   "source": [
    "# Hypothesis Testing"
   ]
  },
  {
   "cell_type": "code",
   "execution_count": 1,
   "metadata": {},
   "outputs": [],
   "source": [
    "# import libraries \n",
    "import numpy as np \n",
    "import matplotlib.pyplot as plt \n",
    "plt.rcParams.update({'font.size': 16}) \n",
    "import scipy.stats as stats\n",
    "import savingfigR as sf"
   ]
  },
  {
   "cell_type": "markdown",
   "metadata": {},
   "source": [
    "## 1 Sample t-test (Exmaple 1 cont'd)"
   ]
  },
  {
   "cell_type": "code",
   "execution_count": 2,
   "metadata": {},
   "outputs": [
    {
     "name": "stdout",
     "output_type": "stream",
     "text": [
      "-1.3043839415024878\n"
     ]
    }
   ],
   "source": [
    "t0 = (-0.61 - 0) / (1.62/(12)**(1/2))\n",
    "alpha = 0.05\n",
    "tcrit0 = stats.t.ppf(alpha, 12 - 1) # (alpha, df) - NOTICE alpha!\n",
    "pval0 = stats.t.cdf(t0,12 - 1) # looking at LEFT tail\n",
    "print(t0)"
   ]
  },
  {
   "cell_type": "code",
   "execution_count": 3,
   "metadata": {},
   "outputs": [
    {
     "name": "stdout",
     "output_type": "stream",
     "text": [
      "-1.7958848187036696\n"
     ]
    }
   ],
   "source": [
    "print(tcrit0)"
   ]
  },
  {
   "cell_type": "code",
   "execution_count": 4,
   "metadata": {},
   "outputs": [
    {
     "name": "stdout",
     "output_type": "stream",
     "text": [
      "0.10936730608829183\n"
     ]
    }
   ],
   "source": [
    "print(pval0)"
   ]
  },
  {
   "cell_type": "markdown",
   "metadata": {},
   "source": [
    "## 1 Sample t-test (Example 2 cont'd)"
   ]
  },
  {
   "cell_type": "code",
   "execution_count": 5,
   "metadata": {},
   "outputs": [
    {
     "name": "stdout",
     "output_type": "stream",
     "text": [
      "2.7844364635870376\n"
     ]
    }
   ],
   "source": [
    "t0 = (146-140)/(27/(157)**(1/2))\n",
    "alpha = 0.05\n",
    "tcrit0 = stats.t.ppf(1 - alpha, 157 - 1) # (1-alpha, n - 1) - NOTICE 1-alpha!\n",
    "pval0 = 1 - stats.t.cdf(t0,157 - 1) # looking at RIGHT tail (1 - p)!\n",
    "print(t0)"
   ]
  },
  {
   "cell_type": "code",
   "execution_count": 6,
   "metadata": {},
   "outputs": [
    {
     "name": "stdout",
     "output_type": "stream",
     "text": [
      "1.6546799956696048\n"
     ]
    }
   ],
   "source": [
    "print(tcrit0)"
   ]
  },
  {
   "cell_type": "code",
   "execution_count": 7,
   "metadata": {},
   "outputs": [
    {
     "name": "stdout",
     "output_type": "stream",
     "text": [
      "0.0030130775888571604\n"
     ]
    }
   ],
   "source": [
    "print(pval0)"
   ]
  },
  {
   "cell_type": "code",
   "execution_count": 8,
   "metadata": {},
   "outputs": [
    {
     "data": {
      "image/png": "[encoded data removed]",
      "text/plain": [
       "<Figure size 432x288 with 1 Axes>"
      ]
     },
     "metadata": {
      "needs_background": "light"
     },
     "output_type": "display_data"
    }
   ],
   "source": [
    "n1 = 157\n",
    "alpha1 = 0.05\n",
    "data1 = np.random.normal(loc=146, scale=27, size=(n1,))\n",
    "fig = plt.figure()\n",
    "plt.hist(data1)\n",
    "plt.show()\n",
    "\n",
    "sf.best_save(fig, 'example2hist')"
   ]
  },
  {
   "cell_type": "code",
   "execution_count": 9,
   "metadata": {},
   "outputs": [
    {
     "name": "stdout",
     "output_type": "stream",
     "text": [
      "3.185394693945267\n"
     ]
    }
   ],
   "source": [
    "t1 = (np.mean(data1) - 140) / (np.std(data1, ddof=1) / (157)**(1/2.))\n",
    "tcrit1 = stats.t.ppf(1 - alpha1, n1 - 1)\n",
    "pval1 = 1 - stats.t.cdf(t1,n1 - 1)\n",
    "print(t1)"
   ]
  },
  {
   "cell_type": "code",
   "execution_count": 10,
   "metadata": {},
   "outputs": [
    {
     "name": "stdout",
     "output_type": "stream",
     "text": [
      "1.6546799956696048\n"
     ]
    }
   ],
   "source": [
    "print(tcrit1)"
   ]
  },
  {
   "cell_type": "code",
   "execution_count": 11,
   "metadata": {},
   "outputs": [
    {
     "name": "stdout",
     "output_type": "stream",
     "text": [
      "0.0008729841243676484\n"
     ]
    }
   ],
   "source": [
    "print(pval1)"
   ]
  },
  {
   "cell_type": "code",
   "execution_count": 12,
   "metadata": {},
   "outputs": [
    {
     "data": {
      "text/plain": [
       "Ttest_1sampResult(statistic=3.185394693945267, pvalue=0.0008729841243676697)"
      ]
     },
     "execution_count": 12,
     "metadata": {},
     "output_type": "execute_result"
    }
   ],
   "source": [
    "stats.ttest_1samp(data1, popmean=140, alternative='greater')"
   ]
  },
  {
   "cell_type": "markdown",
   "metadata": {},
   "source": [
    "## 1 Sample t-test (Example 3 cont'd)"
   ]
  },
  {
   "cell_type": "code",
   "execution_count": 13,
   "metadata": {},
   "outputs": [
    {
     "name": "stdout",
     "output_type": "stream",
     "text": [
      "2.9824045403173045\n"
     ]
    }
   ],
   "source": [
    "data2 = np.array([13,14,15,17,18,19,21,20,19,20])\n",
    "alpha = 0.05\n",
    "t2 = (np.mean(data2) - 15) / (np.std(data2, ddof=1) / (len(data2))**(1/2.))\n",
    "tcrit2 = stats.t.ppf(alpha/2, len(data2)-1) # Left tail (alpha/2 = 0.025)\n",
    "pval2 = 2*stats.t.cdf(-abs(t2),len(data2)-1) # -abs() do calc on left-tail\n",
    "# multiply by 2 (accounting for both sided)\n",
    "print(abs(t2))"
   ]
  },
  {
   "cell_type": "code",
   "execution_count": 14,
   "metadata": {},
   "outputs": [
    {
     "name": "stdout",
     "output_type": "stream",
     "text": [
      "2.262157162740992\n"
     ]
    }
   ],
   "source": [
    "print(abs(tcrit2))"
   ]
  },
  {
   "cell_type": "code",
   "execution_count": 15,
   "metadata": {},
   "outputs": [
    {
     "name": "stdout",
     "output_type": "stream",
     "text": [
      "0.015389410861615396\n"
     ]
    }
   ],
   "source": [
    "print(pval2)"
   ]
  },
  {
   "cell_type": "code",
   "execution_count": 16,
   "metadata": {},
   "outputs": [
    {
     "data": {
      "text/plain": [
       "Ttest_1sampResult(statistic=2.982404540317305, pvalue=0.015389410861615396)"
      ]
     },
     "execution_count": 16,
     "metadata": {},
     "output_type": "execute_result"
    }
   ],
   "source": [
    "stats.ttest_1samp(data2, popmean=15, alternative='two-sided')"
   ]
  },
  {
   "cell_type": "markdown",
   "metadata": {},
   "source": [
    "## 2 Sample Welch's t-test (Example 4 cont'd)"
   ]
  },
  {
   "cell_type": "code",
   "execution_count": 17,
   "metadata": {},
   "outputs": [
    {
     "name": "stdout",
     "output_type": "stream",
     "text": [
      "2.4432862905445463\n"
     ]
    }
   ],
   "source": [
    "t4 = ((306.7 - 300.4)-(0-0))/(34.9**2 / 300 + 30.1**2 / 350)**(1/2)\n",
    "alpha4 = 0.01\n",
    "v4 = (34.9**2 / 300 + 30.1**2 / 350)**2 / (34.9**4 / (300**2 * (300 - 1)) + 30.1**4 / (350**2 * (350 - 1)))\n",
    "tcrit4 = stats.t.ppf(alpha4/2, v4)\n",
    "pval4 = 2*stats.t.cdf(-abs(t4),v4)\n",
    "print(abs(t4))"
   ]
  },
  {
   "cell_type": "code",
   "execution_count": 18,
   "metadata": {},
   "outputs": [
    {
     "name": "stdout",
     "output_type": "stream",
     "text": [
      "-2.584121580018161\n"
     ]
    }
   ],
   "source": [
    "print(tcrit4)"
   ]
  },
  {
   "cell_type": "code",
   "execution_count": 19,
   "metadata": {},
   "outputs": [
    {
     "name": "stdout",
     "output_type": "stream",
     "text": [
      "0.014843933051431354\n"
     ]
    }
   ],
   "source": [
    "print(pval4)"
   ]
  },
  {
   "cell_type": "code",
   "execution_count": 20,
   "metadata": {},
   "outputs": [
    {
     "name": "stdout",
     "output_type": "stream",
     "text": [
      "Ttest_indResult(statistic=-3.466836017227001, pvalue=0.000565946297282269)\n"
     ]
    }
   ],
   "source": [
    "group1 = np.random.normal(loc=300.4, scale=34.9, size=(300,))\n",
    "group2 = np.random.normal(loc=306.7, scale=30.1, size=(350,))\n",
    "print(stats.ttest_ind(group1, group2, alternative='two-sided', equal_var=False)) # equal_var=Falase makes a welch test "
   ]
  },
  {
   "cell_type": "markdown",
   "metadata": {},
   "source": [
    "## Paired t-test (Example 5 cont'd)"
   ]
  },
  {
   "cell_type": "code",
   "execution_count": 21,
   "metadata": {},
   "outputs": [
    {
     "name": "stdout",
     "output_type": "stream",
     "text": [
      "1.7142857142857146\n"
     ]
    }
   ],
   "source": [
    "data5a = np.array([22,25,17,24,16,29,20,23,19,20])\n",
    "data5b = np.array([18,21,16,22,19,24,17,21,23,18])\n",
    "data5diff = data5a - data5b\n",
    "t5 = (np.mean(data5diff) - 0) / (np.std(data5diff, ddof=1) / (len(data5diff))**(1/2.))\n",
    "tcrit5 = stats.t.ppf(0.05/2, len(data5diff)-1)\n",
    "pval5 = 2*stats.t.cdf(-abs(t5),len(data5diff)-1)\n",
    "print(abs(t5))"
   ]
  },
  {
   "cell_type": "code",
   "execution_count": 22,
   "metadata": {},
   "outputs": [
    {
     "name": "stdout",
     "output_type": "stream",
     "text": [
      "2.262157162740992\n"
     ]
    }
   ],
   "source": [
    "print(abs(tcrit5))"
   ]
  },
  {
   "cell_type": "code",
   "execution_count": 23,
   "metadata": {},
   "outputs": [
    {
     "name": "stdout",
     "output_type": "stream",
     "text": [
      "0.12062074496836368\n"
     ]
    }
   ],
   "source": [
    "print(pval5)"
   ]
  },
  {
   "cell_type": "code",
   "execution_count": 24,
   "metadata": {},
   "outputs": [
    {
     "name": "stdout",
     "output_type": "stream",
     "text": [
      "Ttest_relResult(statistic=1.7142857142857144, pvalue=0.12062074496836378)\n"
     ]
    }
   ],
   "source": [
    "print(stats.ttest_rel(data5a, data5b))"
   ]
  },
  {
   "cell_type": "markdown",
   "metadata": {},
   "source": [
    "## Mann-Witney U Exmaple"
   ]
  },
  {
   "cell_type": "code",
   "execution_count": 25,
   "metadata": {},
   "outputs": [
    {
     "name": "stdout",
     "output_type": "stream",
     "text": [
      "WilcoxonResult(statistic=0.0, pvalue=0.00021187839828311125)\n"
     ]
    }
   ],
   "source": [
    "alpha = 0.05\n",
    "G1 = np.array([4,7,8,9,13,13,17,11])\n",
    "G2 = np.array([23,6,3,24,17,14,24,29,13,33])\n",
    "print(stats.wilcoxon(np.concatenate((G1, G2)), correction=True, mode='approx')) # not sure why this is wrong"
   ]
  },
  {
   "cell_type": "markdown",
   "metadata": {},
   "source": [
    "## Wilcoxon signed-rank Example"
   ]
  },
  {
   "cell_type": "code",
   "execution_count": 26,
   "metadata": {},
   "outputs": [],
   "source": [
    "alpha = 0.05\n",
    "Nr = 9\n",
    "W = abs(1.5 + 1.5 - 3 - 4 - 5 - 6 + 7 + 8 + 9)\n",
    "# calculate Wcrit (instead of lookup table)\n",
    "# 0.05/2 = 2-tailed; 0.05 = 1 tailed\n",
    "# Wcrit = -(qsignrank(alpha/2, Nr, lower.tail=FALSE)+1)+Nr*(Nr+1)/2 # unsure of python function for this\n",
    "# W"
   ]
  },
  {
   "cell_type": "code",
   "execution_count": 27,
   "metadata": {},
   "outputs": [
    {
     "name": "stdout",
     "output_type": "stream",
     "text": [
      "WilcoxonResult(statistic=18.0, pvalue=0.5936305914425295)\n"
     ]
    },
    {
     "name": "stderr",
     "output_type": "stream",
     "text": [
      "/Users/duncan/opt/anaconda3/lib/python3.8/site-packages/scipy/stats/morestats.py:3141: UserWarning: Exact p-value calculation does not work if there are ties. Switching to normal approximation.\n",
      "  warnings.warn(\"Exact p-value calculation does not work if there are \"\n",
      "/Users/duncan/opt/anaconda3/lib/python3.8/site-packages/scipy/stats/morestats.py:3155: UserWarning: Sample size too small for normal approximation.\n",
      "  warnings.warn(\"Sample size too small for normal approximation.\")\n"
     ]
    }
   ],
   "source": [
    "G1 = np.array([125,115,130,140,140,115,140,125,140,135])\n",
    "G2 = np.array([110,122,125,120,140,124,123,137,135,145])\n",
    "print(stats.wilcoxon(G1, G2, alternative = \"two-sided\"))"
   ]
  },
  {
   "cell_type": "markdown",
   "metadata": {},
   "source": [
    "## Bonferroni "
   ]
  },
  {
   "cell_type": "code",
   "execution_count": 28,
   "metadata": {},
   "outputs": [
    {
     "name": "stdout",
     "output_type": "stream",
     "text": [
      "[0.03 0.06 0.12]\n"
     ]
    }
   ],
   "source": [
    "pvals = np.array([0.01, 0.02, 0.04])\n",
    "adjusted = pvals * np.repeat(3, len(pvals)) # don't care about order \n",
    "print(adjusted)"
   ]
  },
  {
   "cell_type": "markdown",
   "metadata": {},
   "source": [
    "## Holm-Bonferroni"
   ]
  },
  {
   "cell_type": "code",
   "execution_count": 29,
   "metadata": {},
   "outputs": [
    {
     "name": "stdout",
     "output_type": "stream",
     "text": [
      "[0.03 0.04 0.04]\n"
     ]
    }
   ],
   "source": [
    "pvals = np.array([0.01, 0.02, 0.04])\n",
    "adjusted = pvals * np.linspace(len(pvals), 1, len(pvals)) # order matters here, but they are already in order so we don't need to order and re-order\n",
    "print(adjusted)"
   ]
  }
 ],
 "metadata": {
  "interpreter": {
   "hash": "7acdbb3aff7158c09429e6c9b96f485cecd437364040e3b3eee49ff737423024"
  },
  "kernelspec": {
   "display_name": "Python 3.8.10 64-bit ('base': conda)",
   "language": "python",
   "name": "python3"
  },
  "language_info": {
   "codemirror_mode": {
    "name": "ipython",
    "version": 3
   },
   "file_extension": ".py",
   "mimetype": "text/x-python",
   "name": "python",
   "nbconvert_exporter": "python",
   "pygments_lexer": "ipython3",
   "version": "3.8.10"
  },
  "orig_nbformat": 4
 },
 "nbformat": 4,
 "nbformat_minor": 2
}
