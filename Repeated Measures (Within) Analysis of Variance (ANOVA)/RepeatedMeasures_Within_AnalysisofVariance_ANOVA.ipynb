{
 "cells": [
  {
   "cell_type": "markdown",
   "metadata": {},
   "source": [
    "# Repeated Measures (Within) Analysis of Variance (ANOVA)"
   ]
  },
  {
   "cell_type": "code",
   "execution_count": 1,
   "metadata": {},
   "outputs": [],
   "source": [
    "# import libraries \n",
    "import numpy as np \n",
    "import matplotlib.pyplot as plt \n",
    "plt.rcParams.update({'font.size': 16}) \n",
    "import savingfigR as sf \n",
    "import pingouin as pg \n",
    "import pandas as pd \n",
    "import seaborn as sns\n",
    "from statsmodels.formula.api import ols\n",
    "from statsmodels.stats.anova import anova_lm\n",
    "import scipy.stats as stats\n",
    "import cohens_d as cD\n",
    "from statsmodels.sandbox.stats.multicomp import multipletests"
   ]
  },
  {
   "cell_type": "markdown",
   "metadata": {},
   "source": [
    "## Four Treatment Group Example"
   ]
  },
  {
   "cell_type": "code",
   "execution_count": 2,
   "metadata": {},
   "outputs": [],
   "source": [
    "dv = np.array([8,10,7,5,9,9,8,6,7,5,8,4,9,6,5,7,8,7,7,6,5,4,4,3,7,6,5,4,8,8,6,6,9,8,6,5,7,7,4,5])\n",
    "treatment = np.hstack([[1,2,3,4]*10]) # need to be dummy coded\n",
    "subject = np.hstack([[1]*4, [2]*4, [3]*4, [4]*4, [5]*4, [6]*4, [7]*4, [8]*4, [9]*4, [10]*4])\n",
    "df = pd.DataFrame(data=np.vstack((dv, treatment, subject)).T, columns=['dv', 'treatment', 'subject'])"
   ]
  },
  {
   "cell_type": "code",
   "execution_count": 3,
   "metadata": {},
   "outputs": [
    {
     "data": {
      "text/html": [
       "<div>\n",
       "<style scoped>\n",
       "    .dataframe tbody tr th:only-of-type {\n",
       "        vertical-align: middle;\n",
       "    }\n",
       "\n",
       "    .dataframe tbody tr th {\n",
       "        vertical-align: top;\n",
       "    }\n",
       "\n",
       "    .dataframe thead th {\n",
       "        text-align: right;\n",
       "    }\n",
       "</style>\n",
       "<table border=\"1\" class=\"dataframe\">\n",
       "  <thead>\n",
       "    <tr style=\"text-align: right;\">\n",
       "      <th></th>\n",
       "      <th>dv</th>\n",
       "      <th>treatment</th>\n",
       "      <th>subject</th>\n",
       "    </tr>\n",
       "  </thead>\n",
       "  <tbody>\n",
       "    <tr>\n",
       "      <th>0</th>\n",
       "      <td>8</td>\n",
       "      <td>1</td>\n",
       "      <td>1</td>\n",
       "    </tr>\n",
       "    <tr>\n",
       "      <th>1</th>\n",
       "      <td>10</td>\n",
       "      <td>2</td>\n",
       "      <td>1</td>\n",
       "    </tr>\n",
       "    <tr>\n",
       "      <th>2</th>\n",
       "      <td>7</td>\n",
       "      <td>3</td>\n",
       "      <td>1</td>\n",
       "    </tr>\n",
       "    <tr>\n",
       "      <th>3</th>\n",
       "      <td>5</td>\n",
       "      <td>4</td>\n",
       "      <td>1</td>\n",
       "    </tr>\n",
       "    <tr>\n",
       "      <th>4</th>\n",
       "      <td>9</td>\n",
       "      <td>1</td>\n",
       "      <td>2</td>\n",
       "    </tr>\n",
       "  </tbody>\n",
       "</table>\n",
       "</div>"
      ],
      "text/plain": [
       "   dv  treatment  subject\n",
       "0   8          1        1\n",
       "1  10          2        1\n",
       "2   7          3        1\n",
       "3   5          4        1\n",
       "4   9          1        2"
      ]
     },
     "execution_count": 3,
     "metadata": {},
     "output_type": "execute_result"
    }
   ],
   "source": [
    "df.head(5)"
   ]
  },
  {
   "cell_type": "markdown",
   "metadata": {},
   "source": [
    "## Visualize Data"
   ]
  },
  {
   "cell_type": "code",
   "execution_count": 4,
   "metadata": {},
   "outputs": [
    {
     "data": {
      "image/png": "[encoded data removed]",
      "text/plain": [
       "<Figure size 432x288 with 1 Axes>"
      ]
     },
     "metadata": {
      "needs_background": "light"
     },
     "output_type": "display_data"
    }
   ],
   "source": [
    "fig = plt.figure()\n",
    "sns.boxplot(x='treatment', y='dv', data=df)\n",
    "plt.show()\n",
    "\n",
    "sf.best_save(fig, 'visData')"
   ]
  },
  {
   "cell_type": "markdown",
   "metadata": {},
   "source": [
    "## Repeated Measures ANOVA - Univariate Approach"
   ]
  },
  {
   "cell_type": "code",
   "execution_count": 5,
   "metadata": {},
   "outputs": [
    {
     "name": "stdout",
     "output_type": "stream",
     "text": [
      "      Source    SS  DF         MS          F     p-unc       np2       eps\n",
      "0  treatment  38.9   3  12.966667  12.241259  0.000031  0.576296  0.742601\n",
      "1      Error  28.6  27   1.059259        NaN       NaN       NaN       NaN\n"
     ]
    }
   ],
   "source": [
    "m1 = pg.rm_anova(data=df, dv='dv', subject='subject', within='treatment', detailed=True)\n",
    "print(m1)"
   ]
  },
  {
   "cell_type": "markdown",
   "metadata": {},
   "source": [
    "## Repeated Measures ANOVA - Greenhouse Geisser"
   ]
  },
  {
   "cell_type": "code",
   "execution_count": 6,
   "metadata": {},
   "outputs": [
    {
     "name": "stdout",
     "output_type": "stream",
     "text": [
      "      Source    SS  DF         MS          F     p-unc  p-GG-corr       np2  \\\n",
      "0  treatment  38.9   3  12.966667  12.241259  0.000031   0.000239  0.576296   \n",
      "1      Error  28.6  27   1.059259        NaN       NaN        NaN       NaN   \n",
      "\n",
      "        eps sphericity   W-spher   p-spher  \n",
      "0  0.742601       True  0.346132  0.148839  \n",
      "1       NaN        NaN       NaN       NaN  \n"
     ]
    }
   ],
   "source": [
    "m1_1 = pg.rm_anova(data=df, dv='dv', subject='subject', within='treatment', detailed=True, correction=True)\n",
    "print(m1_1)"
   ]
  },
  {
   "cell_type": "markdown",
   "metadata": {},
   "source": [
    "## Organize Data by Treatment"
   ]
  },
  {
   "cell_type": "code",
   "execution_count": 7,
   "metadata": {},
   "outputs": [],
   "source": [
    "treat1, treat2, treat3, treat4 = dv[0:10], dv[10:20], dv[20:30], dv[30:41]"
   ]
  },
  {
   "cell_type": "markdown",
   "metadata": {},
   "source": [
    "## Testing normality"
   ]
  },
  {
   "cell_type": "code",
   "execution_count": 8,
   "metadata": {},
   "outputs": [
    {
     "data": {
      "text/plain": [
       "ShapiroResult(statistic=0.8434712886810303, pvalue=0.048553917557001114)"
      ]
     },
     "execution_count": 8,
     "metadata": {},
     "output_type": "execute_result"
    }
   ],
   "source": [
    "stats.shapiro(treat2-treat1) # not sure why none of these are the same "
   ]
  },
  {
   "cell_type": "code",
   "execution_count": 9,
   "metadata": {},
   "outputs": [
    {
     "data": {
      "text/plain": [
       "ShapiroResult(statistic=0.8705956935882568, pvalue=0.10157610476016998)"
      ]
     },
     "execution_count": 9,
     "metadata": {},
     "output_type": "execute_result"
    }
   ],
   "source": [
    "stats.shapiro(treat3-treat1)"
   ]
  },
  {
   "cell_type": "code",
   "execution_count": 10,
   "metadata": {},
   "outputs": [
    {
     "data": {
      "text/plain": [
       "ShapiroResult(statistic=0.9252177476882935, pvalue=0.40253207087516785)"
      ]
     },
     "execution_count": 10,
     "metadata": {},
     "output_type": "execute_result"
    }
   ],
   "source": [
    "stats.shapiro(treat4-treat1)"
   ]
  },
  {
   "cell_type": "code",
   "execution_count": 11,
   "metadata": {},
   "outputs": [
    {
     "data": {
      "text/plain": [
       "ShapiroResult(statistic=0.897158682346344, pvalue=0.20385098457336426)"
      ]
     },
     "execution_count": 11,
     "metadata": {},
     "output_type": "execute_result"
    }
   ],
   "source": [
    "stats.shapiro(treat3-treat2)"
   ]
  },
  {
   "cell_type": "code",
   "execution_count": 12,
   "metadata": {},
   "outputs": [
    {
     "data": {
      "text/plain": [
       "ShapiroResult(statistic=0.9433290958404541, pvalue=0.5906160473823547)"
      ]
     },
     "execution_count": 12,
     "metadata": {},
     "output_type": "execute_result"
    }
   ],
   "source": [
    "stats.shapiro(treat4-treat2)"
   ]
  },
  {
   "cell_type": "code",
   "execution_count": 13,
   "metadata": {},
   "outputs": [
    {
     "data": {
      "text/plain": [
       "ShapiroResult(statistic=0.9447940587997437, pvalue=0.6074792742729187)"
      ]
     },
     "execution_count": 13,
     "metadata": {},
     "output_type": "execute_result"
    }
   ],
   "source": [
    "stats.shapiro(treat4-treat3)"
   ]
  },
  {
   "cell_type": "markdown",
   "metadata": {},
   "source": [
    "## Follow up Mean Comparisons"
   ]
  },
  {
   "cell_type": "code",
   "execution_count": 14,
   "metadata": {},
   "outputs": [
    {
     "name": "stdout",
     "output_type": "stream",
     "text": [
      "[1.         0.17759935 0.79952254 0.6395412  1.         1.        ]\n"
     ]
    }
   ],
   "source": [
    "p1v2 = stats.ttest_rel(treat1, treat2, alternative=\"two-sided\")[1] #\n",
    "p1v3 = stats.ttest_rel(treat1, treat3, alternative=\"two-sided\")[1] #\n",
    "p1v4 = stats.ttest_rel(treat1, treat4, alternative=\"two-sided\")[1] #\n",
    "p2v3 = stats.ttest_rel(treat2, treat3, alternative=\"two-sided\")[1] #\n",
    "p2v4 = stats.ttest_rel(treat2, treat4, alternative=\"two-sided\")[1] #\n",
    "p3v4 = stats.ttest_rel(treat3, treat4, alternative=\"two-sided\")[1] #\n",
    "pvals = np.array([p1v2, p1v3, p1v4, p2v3, p2v4, p3v4])\n",
    "p_adjusted = multipletests(pvals, method='holm')[1][:]\n",
    "print(p_adjusted)"
   ]
  },
  {
   "cell_type": "markdown",
   "metadata": {},
   "source": [
    "## Paired Sample Effect Sizes"
   ]
  },
  {
   "cell_type": "code",
   "execution_count": 15,
   "metadata": {},
   "outputs": [
    {
     "data": {
      "text/plain": [
       "0.435924132200985"
      ]
     },
     "execution_count": 15,
     "metadata": {},
     "output_type": "execute_result"
    }
   ],
   "source": [
    "cD.cohensd_2paired(treat1, treat2)"
   ]
  },
  {
   "cell_type": "code",
   "execution_count": 16,
   "metadata": {},
   "outputs": [
    {
     "data": {
      "text/plain": [
       "1.146235419462395"
      ]
     },
     "execution_count": 16,
     "metadata": {},
     "output_type": "execute_result"
    }
   ],
   "source": [
    "cD.cohensd_2paired(treat1, treat3)"
   ]
  },
  {
   "cell_type": "code",
   "execution_count": 17,
   "metadata": {},
   "outputs": [
    {
     "data": {
      "text/plain": [
       "0.6849699322481878"
      ]
     },
     "execution_count": 17,
     "metadata": {},
     "output_type": "execute_result"
    }
   ],
   "source": [
    "cD.cohensd_2paired(treat1, treat4)"
   ]
  },
  {
   "cell_type": "code",
   "execution_count": 18,
   "metadata": {},
   "outputs": [
    {
     "data": {
      "text/plain": [
       "0.7925835078035183"
      ]
     },
     "execution_count": 18,
     "metadata": {},
     "output_type": "execute_result"
    }
   ],
   "source": [
    "cD.cohensd_2paired(treat2, treat3)"
   ]
  },
  {
   "cell_type": "code",
   "execution_count": 19,
   "metadata": {},
   "outputs": [
    {
     "data": {
      "text/plain": [
       "0.2676598420472823"
      ]
     },
     "execution_count": 19,
     "metadata": {},
     "output_type": "execute_result"
    }
   ],
   "source": [
    "cD.cohensd_2paired(treat2, treat4)"
   ]
  },
  {
   "cell_type": "code",
   "execution_count": 20,
   "metadata": {},
   "outputs": [
    {
     "data": {
      "text/plain": [
       "0.5500977908906957"
      ]
     },
     "execution_count": 20,
     "metadata": {},
     "output_type": "execute_result"
    }
   ],
   "source": [
    "cD.cohensd_2paired(treat3, treat4)"
   ]
  },
  {
   "cell_type": "markdown",
   "metadata": {},
   "source": [
    "## ANOVA Effect Size in Python"
   ]
  },
  {
   "cell_type": "code",
   "execution_count": 21,
   "metadata": {},
   "outputs": [
    {
     "name": "stdout",
     "output_type": "stream",
     "text": [
      "omega 2 partial = 0.6921\n"
     ]
    }
   ],
   "source": [
    "w2p = lambda F, dfErr, dfEff: (F-1) / (F + (dfErr +1)/dfEff)\n",
    "omega2p = w2p(m1['F'][0], m1['DF'][0], 1) # not correct \n",
    "print(f'omega 2 partial = {omega2p:.4f}') "
   ]
  },
  {
   "cell_type": "markdown",
   "metadata": {},
   "source": [
    "## Power Analysis on ANOVA"
   ]
  },
  {
   "cell_type": "code",
   "execution_count": 22,
   "metadata": {},
   "outputs": [
    {
     "data": {
      "text/plain": [
       "9.873104026247905"
      ]
     },
     "execution_count": 22,
     "metadata": {},
     "output_type": "execute_result"
    }
   ],
   "source": [
    "pg.power_rm_anova(eta=0.4**2/(1 + 0.4**2), m=4, n=None, power=0.8) # not the same "
   ]
  },
  {
   "cell_type": "markdown",
   "metadata": {},
   "source": [
    "## Repeated Measures ANOVA - Multivariate Approach"
   ]
  },
  {
   "cell_type": "code",
   "execution_count": 23,
   "metadata": {},
   "outputs": [
    {
     "name": "stdout",
     "output_type": "stream",
     "text": [
      "           sum_sq    df           F        PR(>F)\n",
      "Intercept  1664.1   1.0  559.964625  9.637104e-25\n",
      "Residual    115.9  39.0         NaN           NaN\n"
     ]
    }
   ],
   "source": [
    "m1m1 = ols('dv ~ 1', data=df).fit()\n",
    "m1m1_mv = anova_lm(m1m1, typ='III')\n",
    "print(m1m1_mv) # unsure if this is correct "
   ]
  },
  {
   "cell_type": "markdown",
   "metadata": {},
   "source": [
    "## Friedman Test"
   ]
  },
  {
   "cell_type": "code",
   "execution_count": 24,
   "metadata": {},
   "outputs": [
    {
     "name": "stdout",
     "output_type": "stream",
     "text": [
      "             Source         W  ddof1          Q     p-unc\n",
      "Friedman  treatment  0.648936      3  19.468085  0.000219\n"
     ]
    }
   ],
   "source": [
    "fried = pg.friedman(data=df, dv='dv', within='treatment', subject='subject')\n",
    "print(fried)"
   ]
  },
  {
   "cell_type": "markdown",
   "metadata": {},
   "source": [
    "## 2-Way - Univariate Approach"
   ]
  },
  {
   "cell_type": "code",
   "execution_count": 25,
   "metadata": {},
   "outputs": [],
   "source": [
    "dv1 = np.array([420,420,480,480,600,780,480,480,540,660,780,780,540,660,540,480,660,720,480,480,600,360,720,840,540,600,540,540,720,780])\n",
    "factorA = np.concatenate(np.hstack([([1]*3, [2]*3)*5]))\n",
    "factorB = np.hstack([[1,2,3]*10])\n",
    "subject1 = np.hstack([[1]*6, [2]*6, [3]*6, [4]*6, [5]*6])\n",
    "df = pd.DataFrame(data=np.vstack((dv1, factorA, factorB, subject1)).T, columns=['dv1', 'factorA', 'factorB', 'subject1'])"
   ]
  },
  {
   "cell_type": "code",
   "execution_count": 26,
   "metadata": {},
   "outputs": [
    {
     "data": {
      "text/html": [
       "<div>\n",
       "<style scoped>\n",
       "    .dataframe tbody tr th:only-of-type {\n",
       "        vertical-align: middle;\n",
       "    }\n",
       "\n",
       "    .dataframe tbody tr th {\n",
       "        vertical-align: top;\n",
       "    }\n",
       "\n",
       "    .dataframe thead th {\n",
       "        text-align: right;\n",
       "    }\n",
       "</style>\n",
       "<table border=\"1\" class=\"dataframe\">\n",
       "  <thead>\n",
       "    <tr style=\"text-align: right;\">\n",
       "      <th></th>\n",
       "      <th>dv1</th>\n",
       "      <th>factorA</th>\n",
       "      <th>factorB</th>\n",
       "      <th>subject1</th>\n",
       "    </tr>\n",
       "  </thead>\n",
       "  <tbody>\n",
       "    <tr>\n",
       "      <th>0</th>\n",
       "      <td>420</td>\n",
       "      <td>1</td>\n",
       "      <td>1</td>\n",
       "      <td>1</td>\n",
       "    </tr>\n",
       "    <tr>\n",
       "      <th>1</th>\n",
       "      <td>420</td>\n",
       "      <td>1</td>\n",
       "      <td>2</td>\n",
       "      <td>1</td>\n",
       "    </tr>\n",
       "    <tr>\n",
       "      <th>2</th>\n",
       "      <td>480</td>\n",
       "      <td>1</td>\n",
       "      <td>3</td>\n",
       "      <td>1</td>\n",
       "    </tr>\n",
       "    <tr>\n",
       "      <th>3</th>\n",
       "      <td>480</td>\n",
       "      <td>2</td>\n",
       "      <td>1</td>\n",
       "      <td>1</td>\n",
       "    </tr>\n",
       "    <tr>\n",
       "      <th>4</th>\n",
       "      <td>600</td>\n",
       "      <td>2</td>\n",
       "      <td>2</td>\n",
       "      <td>1</td>\n",
       "    </tr>\n",
       "    <tr>\n",
       "      <th>5</th>\n",
       "      <td>780</td>\n",
       "      <td>2</td>\n",
       "      <td>3</td>\n",
       "      <td>1</td>\n",
       "    </tr>\n",
       "    <tr>\n",
       "      <th>6</th>\n",
       "      <td>480</td>\n",
       "      <td>1</td>\n",
       "      <td>1</td>\n",
       "      <td>2</td>\n",
       "    </tr>\n",
       "    <tr>\n",
       "      <th>7</th>\n",
       "      <td>480</td>\n",
       "      <td>1</td>\n",
       "      <td>2</td>\n",
       "      <td>2</td>\n",
       "    </tr>\n",
       "    <tr>\n",
       "      <th>8</th>\n",
       "      <td>540</td>\n",
       "      <td>1</td>\n",
       "      <td>3</td>\n",
       "      <td>2</td>\n",
       "    </tr>\n",
       "    <tr>\n",
       "      <th>9</th>\n",
       "      <td>660</td>\n",
       "      <td>2</td>\n",
       "      <td>1</td>\n",
       "      <td>2</td>\n",
       "    </tr>\n",
       "  </tbody>\n",
       "</table>\n",
       "</div>"
      ],
      "text/plain": [
       "   dv1  factorA  factorB  subject1\n",
       "0  420        1        1         1\n",
       "1  420        1        2         1\n",
       "2  480        1        3         1\n",
       "3  480        2        1         1\n",
       "4  600        2        2         1\n",
       "5  780        2        3         1\n",
       "6  480        1        1         2\n",
       "7  480        1        2         2\n",
       "8  540        1        3         2\n",
       "9  660        2        1         2"
      ]
     },
     "execution_count": 26,
     "metadata": {},
     "output_type": "execute_result"
    }
   ],
   "source": [
    "df.head(10)"
   ]
  },
  {
   "cell_type": "code",
   "execution_count": 27,
   "metadata": {},
   "outputs": [
    {
     "name": "stdout",
     "output_type": "stream",
     "text": [
      "                            df    sum_sq        mean_sq          F    PR(>F)\n",
      "factorA                    1.0  147000.0  147000.000000  27.797834  0.000027\n",
      "factorB                    1.0  131220.0  131220.000000  24.813822  0.000055\n",
      "factorA:factorB            1.0   64980.0   64980.000000  12.287777  0.001998\n",
      "subject1                   1.0   11760.0   11760.000000   2.223827  0.150096\n",
      "subject1:factorA           1.0    8640.0    8640.000000   1.633832  0.214496\n",
      "subject1:factorB           1.0     810.0     810.000000   0.153172  0.699287\n",
      "subject1:factorA:factorB   1.0    2250.0    2250.000000   0.425477  0.520974\n",
      "Residual                  22.0  116340.0    5288.181818        NaN       NaN\n"
     ]
    }
   ],
   "source": [
    "m1 = ols('dv1 ~ factorA*factorB + (subject1/(factorA*factorB))', data=df).fit()\n",
    "m1_aov = anova_lm(m1)\n",
    "print(m1_aov) # close but I don't think right "
   ]
  },
  {
   "cell_type": "markdown",
   "metadata": {},
   "source": [
    "## 2-Way - Greenhouse Geisser Corrections"
   ]
  },
  {
   "cell_type": "code",
   "execution_count": 28,
   "metadata": {},
   "outputs": [
    {
     "name": "stdout",
     "output_type": "stream",
     "text": [
      "                                 sum_sq    df         F    PR(>F)\n",
      "Intercept                   9763.114213   1.0  1.846214  0.187993\n",
      "factorA                      752.766248   1.0  0.142349  0.709572\n",
      "factorB                      768.083812   1.0  0.145245  0.706777\n",
      "factorA:factorB             4139.543320   1.0  0.782791  0.385857\n",
      "subject1                    8125.336615   1.0  1.536509  0.228199\n",
      "subject1:factorA            4480.228961   1.0  0.847215  0.367325\n",
      "subject1:factorB            1587.865982   1.0  0.300267  0.589232\n",
      "subject1:factorA:factorB    1891.117830   1.0  0.357612  0.555942\n",
      "Residual                  116340.000000  22.0       NaN       NaN\n"
     ]
    }
   ],
   "source": [
    "m1_aov = anova_lm(m1, typ='III', robust='hc3') # not sure which robust gives GG correction \n",
    "print(m1_aov) # close but I don't think right "
   ]
  },
  {
   "cell_type": "markdown",
   "metadata": {},
   "source": [
    "## 2-Way - Multivariate Approach"
   ]
  },
  {
   "cell_type": "code",
   "execution_count": 29,
   "metadata": {},
   "outputs": [],
   "source": [
    "# i think this is what i've been doing "
   ]
  },
  {
   "cell_type": "markdown",
   "metadata": {},
   "source": [
    "## Main Effects of A (Sound)"
   ]
  },
  {
   "cell_type": "code",
   "execution_count": 30,
   "metadata": {},
   "outputs": [
    {
     "data": {
      "text/plain": [
       "Ttest_relResult(statistic=-4.06083545780725, pvalue=0.0011682216194768883)"
      ]
     },
     "execution_count": 30,
     "metadata": {},
     "output_type": "execute_result"
    }
   ],
   "source": [
    "# sound1 vs sound2 --- group all data sound 1 or sound 2 (ignore effect of light)\n",
    "sound1 = np.concatenate([dv1[0:3],dv1[6:9],dv1[12:15], dv1[18:21], dv1[24:27]])\n",
    "sound2 = np.concatenate([dv1[3:6],dv1[9:12],dv1[15:18], dv1[21:24], dv1[27:31]])\n",
    "stats.ttest_rel(sound1, sound2, alternative = \"two-sided\")"
   ]
  },
  {
   "cell_type": "markdown",
   "metadata": {},
   "source": [
    "## Main Effects of B (Light)"
   ]
  },
  {
   "cell_type": "code",
   "execution_count": 31,
   "metadata": {},
   "outputs": [
    {
     "name": "stdout",
     "output_type": "stream",
     "text": [
      "[0.02514964 0.02514964 0.12062074]\n"
     ]
    }
   ],
   "source": [
    "# light1 vs light2 --- group all data light 1 or light 2 (ignore effect of sound)\n",
    "light1 = np.array([dv1[0],dv1[3],dv1[6], dv1[9], dv1[12], dv1[15], dv1[18], dv1[21], dv1[24],dv1[27]])\n",
    "light2 = np.array([dv1[1],dv1[4],dv1[7], dv1[10], dv1[13], dv1[16], dv1[19], dv1[22], dv1[25],dv1[28]])\n",
    "light3 = np.array([dv1[2],dv1[5],dv1[8], dv1[11], dv1[14], dv1[17], dv1[20], dv1[23], dv1[26],dv1[29]]) # typo on josh's end \n",
    "pval_l1vl2 = stats.ttest_rel(light1, light2, alternative = \"two-sided\")[1]\n",
    "pval_l1vl3 = stats.ttest_rel(light1, light3, alternative = \"two-sided\")[1]\n",
    "pval_l2vl3 = stats.ttest_rel(light2, light3, alternative = \"two-sided\")[1]\n",
    "pvals = np.array([pval_l1vl2, pval_l1vl3, pval_l2vl3])\n",
    "p_adjusted = multipletests(pvals, method='holm')[1][:]\n",
    "print(p_adjusted) # mine are correct, typo on slide "
   ]
  }
 ],
 "metadata": {
  "interpreter": {
   "hash": "7acdbb3aff7158c09429e6c9b96f485cecd437364040e3b3eee49ff737423024"
  },
  "kernelspec": {
   "display_name": "Python 3.8.10 64-bit ('base': conda)",
   "language": "python",
   "name": "python3"
  },
  "language_info": {
   "codemirror_mode": {
    "name": "ipython",
    "version": 3
   },
   "file_extension": ".py",
   "mimetype": "text/x-python",
   "name": "python",
   "nbconvert_exporter": "python",
   "pygments_lexer": "ipython3",
   "version": "3.8.10"
  },
  "orig_nbformat": 4
 },
 "nbformat": 4,
 "nbformat_minor": 2
}
