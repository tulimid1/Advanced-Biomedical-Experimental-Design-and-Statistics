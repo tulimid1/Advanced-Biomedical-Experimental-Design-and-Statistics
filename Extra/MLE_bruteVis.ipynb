{
 "cells": [
  {
   "cell_type": "markdown",
   "metadata": {},
   "source": [
    "# MLE - parameter space visualizations"
   ]
  },
  {
   "cell_type": "code",
   "execution_count": 8,
   "metadata": {},
   "outputs": [],
   "source": [
    "# import libraries\n",
    "import numpy as np\n",
    "import matplotlib.pyplot as plt \n",
    "plt.rcParams.update({'font.size': 16}) \n",
    "import savingfigR as sf"
   ]
  },
  {
   "cell_type": "markdown",
   "metadata": {},
   "source": [
    "Let's see how the parameter space changes as we get more data. "
   ]
  },
  {
   "cell_type": "code",
   "execution_count": 9,
   "metadata": {},
   "outputs": [],
   "source": [
    "# negative log likelihood function \n",
    "def negloglike(mu, sig, data):\n",
    "    n = len(data)\n",
    "    nll = -(-(n/2) * np.log(2 * np.pi) - (n/2) * np.log(sig**2) - (1 / (2 * sig**2)) * np.sum((data - mu)**2))\n",
    "    return nll"
   ]
  },
  {
   "cell_type": "code",
   "execution_count": 10,
   "metadata": {},
   "outputs": [],
   "source": [
    "# knowns\n",
    "mu = 10\n",
    "sig = 1\n",
    "muS = np.arange(5, 15.1, 0.1)\n",
    "sigmaS = np.arange(0.5, 1.6, 0.1)"
   ]
  },
  {
   "cell_type": "code",
   "execution_count": 11,
   "metadata": {},
   "outputs": [
    {
     "ename": "TypeError",
     "evalue": "writeGif() got an unexpected keyword argument 'fps'",
     "output_type": "error",
     "traceback": [
      "\u001b[0;31m---------------------------------------------------------------------------\u001b[0m",
      "\u001b[0;31mTypeError\u001b[0m                                 Traceback (most recent call last)",
      "\u001b[0;32m/var/folders/rq/13pc0pfn2h72_3f1f2yxqxfm0000gp/T/ipykernel_27282/232265948.py\u001b[0m in \u001b[0;36m<module>\u001b[0;34m\u001b[0m\n\u001b[1;32m     32\u001b[0m     \u001b[0msf\u001b[0m\u001b[0;34m.\u001b[0m\u001b[0mbest_save\u001b[0m\u001b[0;34m(\u001b[0m\u001b[0mfig\u001b[0m\u001b[0;34m,\u001b[0m \u001b[0mfilename\u001b[0m\u001b[0;34m)\u001b[0m\u001b[0;34m\u001b[0m\u001b[0;34m\u001b[0m\u001b[0m\n\u001b[1;32m     33\u001b[0m \u001b[0;34m\u001b[0m\u001b[0m\n\u001b[0;32m---> 34\u001b[0;31m \u001b[0msf\u001b[0m\u001b[0;34m.\u001b[0m\u001b[0mwriteGif\u001b[0m\u001b[0;34m(\u001b[0m\u001b[0;34m'nll_wdata'\u001b[0m\u001b[0;34m,\u001b[0m \u001b[0mfnames\u001b[0m\u001b[0;34m,\u001b[0m \u001b[0mfps\u001b[0m\u001b[0;34m=\u001b[0m\u001b[0;36m2\u001b[0m\u001b[0;34m)\u001b[0m\u001b[0;34m\u001b[0m\u001b[0;34m\u001b[0m\u001b[0m\n\u001b[0m",
      "\u001b[0;31mTypeError\u001b[0m: writeGif() got an unexpected keyword argument 'fps'"
     ]
    }
   ],
   "source": [
    "N = np.arange(2,500,10)\n",
    "fnames = []\n",
    "\n",
    "for n in N:\n",
    "    # get some data \n",
    "    data = np.random.normal(mu, sig, (n,))\n",
    "    # pre-allocate \n",
    "    nll = np.empty((len(muS), len(sigmaS)))\n",
    "    # brute force \n",
    "    for i, m in enumerate(muS):\n",
    "        for j, s in enumerate(sigmaS):\n",
    "            nll[i,j] = negloglike(m, s, data)\n",
    "\n",
    "    # visualize \n",
    "    fig = plt.figure(figsize=(14,4))\n",
    "    plt.subplot(1,2,1) # data \n",
    "    plt.hist(data)\n",
    "    plt.xlabel('Value')\n",
    "    plt.ylabel('Frequency')\n",
    "    plt.title('Data')\n",
    "    plt.subplot(1,2,2) # parameter space \n",
    "    plt.contourf(sigmaS, muS, nll, levels=np.linspace(0,1000,2000))\n",
    "    idx = np.where(nll == nll.min())\n",
    "    plt.plot(sigmaS[idx[1][0]], muS[idx[0][0]], c='r', marker='p')\n",
    "    plt.colorbar(label='negative log likelihood')\n",
    "    plt.xlabel('Sigma')\n",
    "    plt.ylabel('Mu')\n",
    "    plt.title(f'N = {n:d}')\n",
    "\n",
    "    filename = f'{n:d}.png'\n",
    "    fnames.append(filename)\n",
    "    sf.best_save(fig, filename)\n",
    "\n",
    "sf.writeGif('nll_wdata', fnames, fps=2)"
   ]
  }
 ],
 "metadata": {
  "interpreter": {
   "hash": "7acdbb3aff7158c09429e6c9b96f485cecd437364040e3b3eee49ff737423024"
  },
  "kernelspec": {
   "display_name": "Python 3.8.10 64-bit ('base': conda)",
   "language": "python",
   "name": "python3"
  },
  "language_info": {
   "codemirror_mode": {
    "name": "ipython",
    "version": 3
   },
   "file_extension": ".py",
   "mimetype": "text/x-python",
   "name": "python",
   "nbconvert_exporter": "python",
   "pygments_lexer": "ipython3",
   "version": "3.8.10"
  },
  "orig_nbformat": 4
 },
 "nbformat": 4,
 "nbformat_minor": 2
}
